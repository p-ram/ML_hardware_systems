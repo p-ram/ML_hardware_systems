{
  "nbformat": 4,
  "nbformat_minor": 0,
  "metadata": {
    "colab": {
      "provenance": [],
      "gpuType": "V28",
      "authorship_tag": "ABX9TyO3KS8vYEr3dZKFoW2QQjoP"
    },
    "kernelspec": {
      "name": "python3",
      "display_name": "Python 3"
    },
    "language_info": {
      "name": "python"
    },
    "accelerator": "TPU"
  },
  "cells": [
    {
      "cell_type": "code",
      "execution_count": null,
      "metadata": {
        "colab": {
          "base_uri": "https://localhost:8080/"
        },
        "id": "dk-DGoy6KMO2",
        "outputId": "3b13413b-8e74-43b5-f8d8-1cfd491fbd0a"
      },
      "outputs": [
        {
          "output_type": "stream",
          "name": "stdout",
          "text": [
            "Estimated Peak FLOP/s: 0.019918569565629984 TFLOP/s\n"
          ]
        }
      ],
      "source": [
        "import time\n",
        "import numpy as np\n",
        "\n",
        "# Define the size of the matrix\n",
        "N = 4096\n",
        "\n",
        "# Create two random NxN matrices\n",
        "A = np.random.rand(N, N).astype(np.float32)\n",
        "B = np.random.rand(N, N).astype(np.float32)\n",
        "\n",
        "# Warm-up\n",
        "C = np.dot(A, B)\n",
        "\n",
        "# Measure time\n",
        "start = time.time()\n",
        "C = np.dot(A, B)\n",
        "end = time.time()\n",
        "\n",
        "# Calculate FLOP/s\n",
        "flops = 2 * N**3 / (end - start)\n",
        "print(f\"Estimated Peak FLOP/s: {flops / 1e12} TFLOP/s\")\n"
      ]
    },
    {
      "cell_type": "code",
      "source": [
        "import time\n",
        "\n",
        "# Define the size of the array\n",
        "N = 100000000\n",
        "\n",
        "# Create a random array\n",
        "A = np.random.rand(N).astype(np.float32)\n",
        "B = np.empty_like(A)\n",
        "\n",
        "# Warm-up\n",
        "np.copyto(B, A)\n",
        "\n",
        "# Measure time\n",
        "start = time.time()\n",
        "np.copyto(B, A)\n",
        "end = time.time()\n",
        "\n",
        "# Calculate memory bandwidth\n",
        "size_in_bytes = A.size * A.itemsize\n",
        "bandwidth = size_in_bytes / (end - start) / 1e9\n",
        "print(f\"Estimated Memory Bandwidth: {bandwidth} GB/s\")\n"
      ],
      "metadata": {
        "colab": {
          "base_uri": "https://localhost:8080/"
        },
        "id": "wD3bbF8xK6Xo",
        "outputId": "35febb38-df11-470f-fde5-63114128cabe"
      },
      "execution_count": null,
      "outputs": [
        {
          "output_type": "stream",
          "name": "stdout",
          "text": [
            "Estimated Memory Bandwidth: 4.8513460526391885 GB/s\n"
          ]
        }
      ]
    },
    {
      "cell_type": "markdown",
      "source": [
        "switching to GPU"
      ],
      "metadata": {
        "id": "qyzeL_s4LDFT"
      }
    },
    {
      "cell_type": "code",
      "source": [
        "import tensorflow as tf\n",
        "import time\n",
        "\n",
        "# Define the size of the matrix\n",
        "N = 4096\n",
        "\n",
        "# Create two random NxN matrices\n",
        "A = tf.random.uniform([N, N], dtype=tf.float32)\n",
        "B = tf.random.uniform([N, N], dtype=tf.float32)\n",
        "\n",
        "# Warm-up\n",
        "C = tf.linalg.matmul(A, B)\n",
        "\n",
        "# Measure time\n",
        "start = time.time()\n",
        "C = tf.linalg.matmul(A, B)\n",
        "end = time.time()\n",
        "\n",
        "# Calculate FLOP/s\n",
        "flops = 2 * N**3 / (end - start)\n",
        "print(f\"Estimated Peak FLOP/s (GPU): {flops / 1e12} TFLOP/s\")\n"
      ],
      "metadata": {
        "colab": {
          "base_uri": "https://localhost:8080/"
        },
        "id": "iA3azoBwLKlL",
        "outputId": "41d86a6e-9d65-4645-e5b9-c0af5f19fcc7"
      },
      "execution_count": null,
      "outputs": [
        {
          "output_type": "stream",
          "name": "stdout",
          "text": [
            "Estimated Peak FLOP/s (GPU): 139.41009729224268 TFLOP/s\n"
          ]
        }
      ]
    },
    {
      "cell_type": "code",
      "source": [
        "import tensorflow as tf\n",
        "import time\n",
        "\n",
        "# Define the size of the array\n",
        "N = 100000000\n",
        "\n",
        "# Create a random array\n",
        "A = tf.random.uniform([N], dtype=tf.float32)\n",
        "B = tf.Variable(tf.zeros_like(A))\n",
        "\n",
        "# Warm-up\n",
        "B.assign(A)\n",
        "\n",
        "# Measure time\n",
        "start = time.time()\n",
        "B.assign(A)\n",
        "end = time.time()\n",
        "\n",
        "# Calculate memory bandwidth\n",
        "size_in_bytes = A.shape[0] * A.dtype.size\n",
        "bandwidth = size_in_bytes / (end - start) / 1e9\n",
        "print(f\"Estimated Memory Bandwidth (GPU): {bandwidth} GB/s\")\n"
      ],
      "metadata": {
        "colab": {
          "base_uri": "https://localhost:8080/"
        },
        "id": "IWPaoNRJLUhz",
        "outputId": "fd165dc2-9f23-468a-bbcb-ae0d493a6f83"
      },
      "execution_count": null,
      "outputs": [
        {
          "output_type": "stream",
          "name": "stdout",
          "text": [
            "Estimated Memory Bandwidth (GPU): 974.286643437863 GB/s\n"
          ]
        }
      ]
    },
    {
      "cell_type": "markdown",
      "source": [
        "Switching to TPU"
      ],
      "metadata": {
        "id": "mEJlfKUyLiPm"
      }
    },
    {
      "cell_type": "code",
      "source": [],
      "metadata": {
        "id": "FX3mnv5RLl0T"
      },
      "execution_count": null,
      "outputs": []
    },
    {
      "cell_type": "code",
      "source": [
        "import tensorflow as tf\n",
        "import time\n",
        "\n",
        "# Define the size of the matrix\n",
        "N = 4096\n",
        "\n",
        "# Create two random NxN matrices\n",
        "A = tf.random.uniform([N, N], dtype=tf.float32)\n",
        "B = tf.random.uniform([N, N], dtype=tf.float32)\n",
        "\n",
        "# Warm-up\n",
        "C = tf.linalg.matmul(A, B)\n",
        "\n",
        "# Measure time\n",
        "start = time.time()\n",
        "C = tf.linalg.matmul(A, B)\n",
        "end = time.time()\n",
        "\n",
        "# Calculate FLOP/s\n",
        "flops = 2 * N**3 / (end - start)\n",
        "print(f\"Estimated Peak FLOP/s (GPU): {flops / 1e12} TFLOP/s\")\n"
      ],
      "metadata": {
        "colab": {
          "base_uri": "https://localhost:8080/"
        },
        "outputId": "f0f9d65c-f362-419d-e797-8f98902419c1",
        "id": "qiF0HfE652tI"
      },
      "execution_count": 4,
      "outputs": [
        {
          "output_type": "stream",
          "name": "stdout",
          "text": [
            "Estimated Peak FLOP/s (GPU): 2.4351391579438824 TFLOP/s\n"
          ]
        }
      ]
    },
    {
      "cell_type": "code",
      "source": [
        "import tensorflow as tf\n",
        "import time\n",
        "\n",
        "# Define the size of the array\n",
        "N = 100000000\n",
        "\n",
        "# Create a random array\n",
        "A = tf.random.uniform([N], dtype=tf.float32)\n",
        "B = tf.Variable(tf.zeros_like(A))\n",
        "\n",
        "# Warm-up\n",
        "B.assign(A)\n",
        "\n",
        "# Measure time\n",
        "start = time.time()\n",
        "B.assign(A)\n",
        "end = time.time()\n",
        "\n",
        "# Calculate memory bandwidth\n",
        "size_in_bytes = A.shape[0] * A.dtype.size\n",
        "bandwidth = size_in_bytes / (end - start) / 1e9\n",
        "print(f\"Estimated Memory Bandwidth (GPU): {bandwidth} GB/s\")"
      ],
      "metadata": {
        "colab": {
          "base_uri": "https://localhost:8080/"
        },
        "id": "DcBYMxId55td",
        "outputId": "a01c64d7-c38d-4a02-b418-a2901bce3f03"
      },
      "execution_count": 3,
      "outputs": [
        {
          "output_type": "stream",
          "name": "stdout",
          "text": [
            "Estimated Memory Bandwidth (GPU): 1393.4564784053157 GB/s\n"
          ]
        }
      ]
    },
    {
      "cell_type": "markdown",
      "source": [
        "Using publicly available Peak performance and peak memory bandwidth"
      ],
      "metadata": {
        "id": "OsuoEck77ZRk"
      }
    },
    {
      "cell_type": "code",
      "source": [
        "import matplotlib.pyplot as plt\n",
        "\n",
        "# Your data\n",
        "flops_per_sec = [139,2, 34, 64, 180, 320, 459, 34, 26]\n",
        "peak_BW = [ 0.9, 1.3, 4.8, 4.8, 0.9, 1.2, 2.7, 3.35,2]\n",
        "labels = [ 'T4', 'colab_TPU', 'H200F4', 'H200F2', 'TPU', 'TPU_v3', 'TPU_v5', 'H100', 'H100P']\n",
        "# Create a new figure\n",
        "plt.figure()\n",
        "\n",
        "# Plot x vs y with a logarithmic scale on the y-axis\n",
        "plt.scatter(peak_BW, flops_per_sec, marker='o', color='b', label='TFLOPs vs peak BW')\n",
        "\n",
        "# Set the x and y scales to logarithmic\n",
        "plt.xscale('log')\n",
        "plt.yscale('log')\n",
        "\n",
        "# Add labels and a title\n",
        "plt.ylabel('TFLOPs perf')\n",
        "plt.xlabel('Peak bandwidth TB/s')\n",
        "plt.title('Roofline Plot')\n",
        "\n",
        "# Annotate each point with its custom label\n",
        "for x, y, label in zip(peak_BW, flops_per_sec, labels):\n",
        "    plt.annotate(label, (x, y), textcoords=\"offset points\", xytext=(0,10), ha='center')\n",
        "\n",
        "# Add a legend\n",
        "#plt.legend()\n",
        "\n",
        "# Show the plot\n",
        "plt.show()\n"
      ],
      "metadata": {
        "colab": {
          "base_uri": "https://localhost:8080/",
          "height": 476
        },
        "id": "esCf4yKs7lrz",
        "outputId": "1f0d6516-5277-4b79-fe6d-6b5a7d3a3d6f"
      },
      "execution_count": 13,
      "outputs": [
        {
          "output_type": "display_data",
          "data": {
            "text/plain": [
              "<Figure size 640x480 with 1 Axes>"
            ],
            "image/png": "[encoded data removed]"
          },
          "metadata": {}
        }
      ]
    },
    {
      "cell_type": "markdown",
      "source": [
        "*sources*\n",
        "\n",
        "https://www.nvidia.com/en-us/data-center/h100/\n",
        "\n",
        "https://www.nvidia.com/en-us/data-center/h200/\n",
        "\n",
        "https://en.wikipedia.org/wiki/Tensor_Processing_Unit\n"
      ],
      "metadata": {
        "id": "KL4ptIpu_2FR"
      }
    },
    {
      "cell_type": "code",
      "source": [],
      "metadata": {
        "id": "aQOc67z__35f"
      },
      "execution_count": null,
      "outputs": []
    }
  ]
}